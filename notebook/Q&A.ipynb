{
  "nbformat": 4,
  "nbformat_minor": 0,
  "metadata": {
    "colab": {
      "provenance": [],
      "gpuType": "T4"
    },
    "kernelspec": {
      "name": "python3",
      "display_name": "Python 3"
    },
    "language_info": {
      "name": "python"
    },
    "accelerator": "GPU"
  },
  "cells": [
    {
      "cell_type": "markdown",
      "source": [
        "# Environment"
      ],
      "metadata": {
        "id": "7Z1R_ZfS1mC8"
      }
    },
    {
      "cell_type": "code",
      "execution_count": 2,
      "metadata": {
        "colab": {
          "base_uri": "https://localhost:8080/"
        },
        "id": "15AqHGqPBS_M",
        "outputId": "57bd5e73-8a39-42d6-faf8-55a65aa30474"
      },
      "outputs": [
        {
          "output_type": "stream",
          "name": "stdout",
          "text": [
            "/content\n"
          ]
        }
      ],
      "source": [
        "# !pip install pyspark==3.3.1\n",
        "!pwd"
      ]
    },
    {
      "cell_type": "code",
      "source": [
        "!apt-get install openjdk-8-jdk-headless -qq > /dev/null\n"
      ],
      "metadata": {
        "id": "oN2qri-EBVSq"
      },
      "execution_count": 3,
      "outputs": []
    },
    {
      "cell_type": "code",
      "source": [
        "!wget -q https://dlcdn.apache.org/spark/spark-3.4.3/spark-3.4.3-bin-hadoop3.tgz\n",
        "!ls"
      ],
      "metadata": {
        "colab": {
          "base_uri": "https://localhost:8080/"
        },
        "id": "-gC6mn28BWsb",
        "outputId": "a67a0438-0cb0-467f-b120-57f5fbc6d7fb"
      },
      "execution_count": 4,
      "outputs": [
        {
          "output_type": "stream",
          "name": "stdout",
          "text": [
            "sample_data  spark-3.4.3-bin-hadoop3.tgz\n"
          ]
        }
      ]
    },
    {
      "cell_type": "code",
      "source": [
        "! file spark-3.4.3-bin-hadoop3.tgz\n",
        "!tar xf spark-3.4.3-bin-hadoop3.tgz\n"
      ],
      "metadata": {
        "colab": {
          "base_uri": "https://localhost:8080/"
        },
        "id": "vjeqaytZBXlD",
        "outputId": "3f4cb019-2c70-43a6-8545-92994921dc7a"
      },
      "execution_count": 5,
      "outputs": [
        {
          "output_type": "stream",
          "name": "stdout",
          "text": [
            "spark-3.4.3-bin-hadoop3.tgz: gzip compressed data, from Unix, original size modulo 2^32 431595520\n"
          ]
        }
      ]
    },
    {
      "cell_type": "code",
      "source": [
        "!pip install -q findspark"
      ],
      "metadata": {
        "id": "60sXwHSHBYn-"
      },
      "execution_count": 6,
      "outputs": []
    },
    {
      "cell_type": "code",
      "source": [
        "# add airports-database.zip to instanc's storage\"\n",
        "!echo \"y\" | unzip \"airports-database.zip\""
      ],
      "metadata": {
        "colab": {
          "base_uri": "https://localhost:8080/"
        },
        "id": "B1ZWNmjMD1CL",
        "outputId": "6acd9e00-72ec-4029-8521-c9861fd783a9"
      },
      "execution_count": 7,
      "outputs": [
        {
          "output_type": "stream",
          "name": "stdout",
          "text": [
            "unzip:  cannot find or open airports-database.zip, airports-database.zip.zip or airports-database.zip.ZIP.\n"
          ]
        }
      ]
    },
    {
      "cell_type": "code",
      "source": [
        "import os\n",
        "os.environ[\"JAVA_HOME\"] = \"/usr/lib/jvm/java-8-openjdk-amd64\"\n",
        "os.environ[\"SPARK_HOME\"] = \"/content/spark-3.4.3-bin-hadoop3\"\n",
        "\n",
        "import findspark\n",
        "findspark.init()"
      ],
      "metadata": {
        "id": "2Ma1Iw6TBZcM"
      },
      "execution_count": 8,
      "outputs": []
    },
    {
      "cell_type": "markdown",
      "source": [
        "# Q & A"
      ],
      "metadata": {
        "id": "SYMcARAWlOqN"
      }
    },
    {
      "cell_type": "code",
      "source": [
        "from pyspark.sql import SparkSession\n",
        "from pyspark.sql import functions as F\n",
        "\n",
        "spark = SparkSession.builder.getOrCreate()\n",
        "\n",
        "csv_file_path = \"airports-database.csv\"\n",
        "\n",
        "df = spark.read.csv(csv_file_path, header=True, inferSchema=True)\n",
        "df.show()"
      ],
      "metadata": {
        "colab": {
          "base_uri": "https://localhost:8080/"
        },
        "id": "EfUQroaPBb3A",
        "outputId": "82d556eb-8cb9-4a64-c8b6-27448c883d96"
      },
      "execution_count": 10,
      "outputs": [
        {
          "output_type": "stream",
          "name": "stdout",
          "text": [
            "+---+----+-----+---+--------+--------------+---------+--------+--------------+---------+-------+------+-------+------+----+--------+--------+----+------+-------------------+--------------------+\n",
            "| id|year|month|day|dep_time|sched_dep_time|dep_delay|arr_time|sched_arr_time|arr_delay|carrier|flight|tailnum|origin|dest|air_time|distance|hour|minute|          time_hour|                name|\n",
            "+---+----+-----+---+--------+--------------+---------+--------+--------------+---------+-------+------+-------+------+----+--------+--------+----+------+-------------------+--------------------+\n",
            "|  0|2013|    1|  1|   517.0|           515|      2.0|   830.0|           819|     11.0|     UA|  1545| N14228|   EWR| IAH|   227.0|    1400|   5|    15|2013-01-01 05:00:00|United Air Lines ...|\n",
            "|  1|2013|    1|  1|   533.0|           529|      4.0|   850.0|           830|     20.0|     UA|  1714| N24211|   LGA| IAH|   227.0|    1416|   5|    29|2013-01-01 05:00:00|United Air Lines ...|\n",
            "|  2|2013|    1|  1|   542.0|           540|      2.0|   923.0|           850|     33.0|     AA|  1141| N619AA|   JFK| MIA|   160.0|    1089|   5|    40|2013-01-01 05:00:00|American Airlines...|\n",
            "|  3|2013|    1|  1|   544.0|           545|     -1.0|  1004.0|          1022|    -18.0|     B6|   725| N804JB|   JFK| BQN|   183.0|    1576|   5|    45|2013-01-01 05:00:00|     JetBlue Airways|\n",
            "|  4|2013|    1|  1|   554.0|           600|     -6.0|   812.0|           837|    -25.0|     DL|   461| N668DN|   LGA| ATL|   116.0|     762|   6|     0|2013-01-01 06:00:00|Delta Air Lines Inc.|\n",
            "|  5|2013|    1|  1|   554.0|           558|     -4.0|   740.0|           728|     12.0|     UA|  1696| N39463|   EWR| ORD|   150.0|     719|   5|    58|2013-01-01 05:00:00|United Air Lines ...|\n",
            "|  6|2013|    1|  1|   555.0|           600|     -5.0|   913.0|           854|     19.0|     B6|   507| N516JB|   EWR| FLL|   158.0|    1065|   6|     0|2013-01-01 06:00:00|     JetBlue Airways|\n",
            "|  7|2013|    1|  1|   557.0|           600|     -3.0|   709.0|           723|    -14.0|     EV|  5708| N829AS|   LGA| IAD|    53.0|     229|   6|     0|2013-01-01 06:00:00|ExpressJet Airlin...|\n",
            "|  8|2013|    1|  1|   557.0|           600|     -3.0|   838.0|           846|     -8.0|     B6|    79| N593JB|   JFK| MCO|   140.0|     944|   6|     0|2013-01-01 06:00:00|     JetBlue Airways|\n",
            "|  9|2013|    1|  1|   558.0|           600|     -2.0|   753.0|           745|      8.0|     AA|   301| N3ALAA|   LGA| ORD|   138.0|     733|   6|     0|2013-01-01 06:00:00|American Airlines...|\n",
            "| 10|2013|    1|  1|   558.0|           600|     -2.0|   849.0|           851|     -2.0|     B6|    49| N793JB|   JFK| PBI|   149.0|    1028|   6|     0|2013-01-01 06:00:00|     JetBlue Airways|\n",
            "| 11|2013|    1|  1|   558.0|           600|     -2.0|   853.0|           856|     -3.0|     B6|    71| N657JB|   JFK| TPA|   158.0|    1005|   6|     0|2013-01-01 06:00:00|     JetBlue Airways|\n",
            "| 12|2013|    1|  1|   558.0|           600|     -2.0|   924.0|           917|      7.0|     UA|   194| N29129|   JFK| LAX|   345.0|    2475|   6|     0|2013-01-01 06:00:00|United Air Lines ...|\n",
            "| 13|2013|    1|  1|   558.0|           600|     -2.0|   923.0|           937|    -14.0|     UA|  1124| N53441|   EWR| SFO|   361.0|    2565|   6|     0|2013-01-01 06:00:00|United Air Lines ...|\n",
            "| 14|2013|    1|  1|   559.0|           600|     -1.0|   941.0|           910|     31.0|     AA|   707| N3DUAA|   LGA| DFW|   257.0|    1389|   6|     0|2013-01-01 06:00:00|American Airlines...|\n",
            "| 15|2013|    1|  1|   559.0|           559|      0.0|   702.0|           706|     -4.0|     B6|  1806| N708JB|   JFK| BOS|    44.0|     187|   5|    59|2013-01-01 05:00:00|     JetBlue Airways|\n",
            "| 16|2013|    1|  1|   559.0|           600|     -1.0|   854.0|           902|     -8.0|     UA|  1187| N76515|   EWR| LAS|   337.0|    2227|   6|     0|2013-01-01 06:00:00|United Air Lines ...|\n",
            "| 17|2013|    1|  1|   600.0|           600|      0.0|   851.0|           858|     -7.0|     B6|   371| N595JB|   LGA| FLL|   152.0|    1076|   6|     0|2013-01-01 06:00:00|     JetBlue Airways|\n",
            "| 18|2013|    1|  1|   600.0|           600|      0.0|   837.0|           825|     12.0|     MQ|  4650| N542MQ|   LGA| ATL|   134.0|     762|   6|     0|2013-01-01 06:00:00|           Envoy Air|\n",
            "| 19|2013|    1|  1|   601.0|           600|      1.0|   844.0|           850|     -6.0|     B6|   343| N644JB|   EWR| PBI|   147.0|    1023|   6|     0|2013-01-01 06:00:00|     JetBlue Airways|\n",
            "+---+----+-----+---+--------+--------------+---------+--------+--------------+---------+-------+------+-------+------+----+--------+--------+----+------+-------------------+--------------------+\n",
            "only showing top 20 rows\n",
            "\n",
            "root\n",
            " |-- id: integer (nullable = true)\n",
            " |-- year: integer (nullable = true)\n",
            " |-- month: integer (nullable = true)\n",
            " |-- day: integer (nullable = true)\n",
            " |-- dep_time: double (nullable = true)\n",
            " |-- sched_dep_time: integer (nullable = true)\n",
            " |-- dep_delay: double (nullable = true)\n",
            " |-- arr_time: double (nullable = true)\n",
            " |-- sched_arr_time: integer (nullable = true)\n",
            " |-- arr_delay: double (nullable = true)\n",
            " |-- carrier: string (nullable = true)\n",
            " |-- flight: integer (nullable = true)\n",
            " |-- tailnum: string (nullable = true)\n",
            " |-- origin: string (nullable = true)\n",
            " |-- dest: string (nullable = true)\n",
            " |-- air_time: double (nullable = true)\n",
            " |-- distance: integer (nullable = true)\n",
            " |-- hour: integer (nullable = true)\n",
            " |-- minute: integer (nullable = true)\n",
            " |-- time_hour: timestamp (nullable = true)\n",
            " |-- name: string (nullable = true)\n",
            "\n"
          ]
        }
      ]
    },
    {
      "cell_type": "code",
      "source": [
        "# 1. Qual é o número total de voos no conjunto de dados?\n",
        "print(f\"Q1 - Numero total de voos: {df.count()}\")"
      ],
      "metadata": {
        "colab": {
          "base_uri": "https://localhost:8080/"
        },
        "id": "ezt_ZcrXC4MG",
        "outputId": "c3d1734a-0c86-470b-ece1-f6693cde75f9"
      },
      "execution_count": 12,
      "outputs": [
        {
          "output_type": "stream",
          "name": "stdout",
          "text": [
            "Q1 - Numero total de voos: 336776\n"
          ]
        }
      ]
    },
    {
      "cell_type": "code",
      "source": [
        "# 2. Quantos voos foram cancelados? (Considerando que voos cancelados têm dep_time e arr_time nulos)?\n",
        "ans = df.filter(df.dep_time.isNull() & df.arr_time.isNull()).count()\n",
        "print(f\"Q2 - Numero de voos cancelados: {ans}\")"
      ],
      "metadata": {
        "colab": {
          "base_uri": "https://localhost:8080/"
        },
        "id": "83DOZoYYEmdr",
        "outputId": "2b903421-a42b-400d-bfc6-331dc8077ca1"
      },
      "execution_count": 13,
      "outputs": [
        {
          "output_type": "stream",
          "name": "stdout",
          "text": [
            "Q2 - Numero de voos cancelados: 8255\n"
          ]
        }
      ]
    },
    {
      "cell_type": "code",
      "source": [
        "# 3. Qual é o atraso médio na partida dos voos (dep_delay)?\n",
        "from pyspark.sql import functions as F\n",
        "\n",
        "ans = df.agg(F.mean(\"dep_delay\")).collect()[0][0]\n",
        "print(f\"Q3 - Atraso medio: {ans} minutos\")"
      ],
      "metadata": {
        "colab": {
          "base_uri": "https://localhost:8080/"
        },
        "id": "ZLSeu52GFSGD",
        "outputId": "771d47d9-c1f3-483c-9d8d-7169278010e5"
      },
      "execution_count": 14,
      "outputs": [
        {
          "output_type": "stream",
          "name": "stdout",
          "text": [
            "Q3 - Atraso medio: 12.639070257304708 minutos\n"
          ]
        }
      ]
    },
    {
      "cell_type": "code",
      "source": [
        "# 4. Quais são os 5 aeroportos com maior número de pousos?\n",
        "dest_counts = df.groupBy(\"dest\").count()\n",
        "ans = dest_counts.orderBy(F.desc(\"count\")).limit(5)\n",
        "\n",
        "print(f\"Q4 - Top 5 aeroportos por pouso:\")\n",
        "ans.show()"
      ],
      "metadata": {
        "colab": {
          "base_uri": "https://localhost:8080/"
        },
        "id": "3djHqkpeGHgF",
        "outputId": "34ab3040-fe2b-4331-f060-632ee7fbdf7f"
      },
      "execution_count": 15,
      "outputs": [
        {
          "output_type": "stream",
          "name": "stdout",
          "text": [
            "Q4 - Top 5 aeroportos por pouso:\n",
            "+----+-----+\n",
            "|dest|count|\n",
            "+----+-----+\n",
            "| ORD|17283|\n",
            "| ATL|17215|\n",
            "| LAX|16174|\n",
            "| BOS|15508|\n",
            "| MCO|14082|\n",
            "+----+-----+\n",
            "\n"
          ]
        }
      ]
    },
    {
      "cell_type": "code",
      "source": [
        "# 5. Qual é a rota mais frequente (par origin-dest)?\n",
        "origin_dest_counts = df.groupBy(\"origin\", \"dest\").count()\n",
        "ans = origin_dest_counts.orderBy(F.desc(\"count\")).limit(1)\n",
        "\n",
        "print(f\"Q5 - Rota mais frequente:\")\n",
        "ans.show()"
      ],
      "metadata": {
        "colab": {
          "base_uri": "https://localhost:8080/"
        },
        "id": "UksQrIZ_Gz-W",
        "outputId": "4cd0cec2-99b1-4452-c8c8-8d85760a0641"
      },
      "execution_count": 16,
      "outputs": [
        {
          "output_type": "stream",
          "name": "stdout",
          "text": [
            "Q5 - Rota mais frequente:\n",
            "+------+----+-----+\n",
            "|origin|dest|count|\n",
            "+------+----+-----+\n",
            "|   JFK| LAX|11262|\n",
            "+------+----+-----+\n",
            "\n"
          ]
        }
      ]
    },
    {
      "cell_type": "code",
      "source": [
        "# 6. Quais são as 5 companhias aéreas com maior tempo médio de atraso na chegada?\n",
        "carrier_delay_mean = df.groupBy(\"name\").agg(F.mean(\"arr_delay\").alias(\"mean_arr_delay\"))\n",
        "ans = carrier_delay_mean.orderBy(F.desc(\"mean_arr_delay\")).limit(5)\n",
        "\n",
        "print(f\"Q6 - Top 5 companhias com maior atraso medio na chegada:\")\n",
        "ans.show()"
      ],
      "metadata": {
        "colab": {
          "base_uri": "https://localhost:8080/"
        },
        "id": "QRNDKQ6zHBP8",
        "outputId": "33773362-b503-4347-e474-1645ef5370b8"
      },
      "execution_count": 17,
      "outputs": [
        {
          "output_type": "stream",
          "name": "stdout",
          "text": [
            "Q6 - Top 5 companhias com maior atraso medio na chegada:\n",
            "+--------------------+------------------+\n",
            "|                name|    mean_arr_delay|\n",
            "+--------------------+------------------+\n",
            "|Frontier Airlines...|21.920704845814978|\n",
            "|AirTran Airways C...|20.115905511811025|\n",
            "|ExpressJet Airlin...| 15.79643108710965|\n",
            "|  Mesa Airlines Inc.|15.556985294117647|\n",
            "|SkyWest Airlines ...|11.931034482758621|\n",
            "+--------------------+------------------+\n",
            "\n"
          ]
        }
      ]
    },
    {
      "cell_type": "code",
      "source": [
        "# 7. Qual é o dia da semana com maior número de voos?\n",
        "df_with_week_day = df.withColumn(\"week_day\", F.dayofweek(\"time_hour\"))\n",
        "\n",
        "week_day_counts = df_with_week_day.groupBy(\"week_day\").count()\n",
        "ans = week_day_counts.orderBy(F.desc(\"count\")).limit(1)\n",
        "\n",
        "print(f\"Q7 - Dia da semana com mais voos:\")\n",
        "ans.show()"
      ],
      "metadata": {
        "colab": {
          "base_uri": "https://localhost:8080/"
        },
        "id": "edGaA0YQJZNy",
        "outputId": "c6fc4e03-02cb-4b11-ba6b-a16b4090b843"
      },
      "execution_count": 18,
      "outputs": [
        {
          "output_type": "stream",
          "name": "stdout",
          "text": [
            "Q7 - Dia da semana com mais voos:\n",
            "+--------+-----+\n",
            "|week_day|count|\n",
            "+--------+-----+\n",
            "|       2|50690|\n",
            "+--------+-----+\n",
            "\n"
          ]
        }
      ]
    },
    {
      "cell_type": "code",
      "source": [
        "# 8. Qual o percentual mensal dos voos tiveram atraso na partida superior a 30 minutos?\n",
        "df_with_month = df.withColumn(\"month\", F.month(\"time_hour\"))\n",
        "\n",
        "df_delayed = df_with_month.filter(df_with_month.dep_delay > 30)\n",
        "delayed_count_per_month = df_delayed.groupBy(\"month\").count().alias(\"delayed_count\")\n",
        "total_count_per_month = df_with_month.groupBy(\"month\").count().alias(\"total_count\")\n",
        "\n",
        "ans = delayed_count_per_month.join(\n",
        "    total_count_per_month, \"month\"\n",
        ").withColumn(\n",
        "    \"percent_delayed (%)\",\n",
        "    (F.col(\"delayed_count.count\") / F.col(\"totaL_count.count\")) * 100\n",
        ").select(\"month\", \"percent_delayed (%)\")\n",
        "\n",
        "print(f\"Q8 - Percentual mensal dos voos que tiveram atraso na partida superior a 30 minutos:\")\n",
        "ans.orderBy(\"month\").show()"
      ],
      "metadata": {
        "colab": {
          "base_uri": "https://localhost:8080/"
        },
        "id": "9pCBFQ_oMexq",
        "outputId": "b5a41b19-e701-491c-dd8a-ba2b2d8fbf1d"
      },
      "execution_count": 19,
      "outputs": [
        {
          "output_type": "stream",
          "name": "stdout",
          "text": [
            "Q8 - Percentual mensal dos voos que tiveram atraso na partida superior a 30 minutos:\n",
            "+-----+-------------------+\n",
            "|month|percent_delayed (%)|\n",
            "+-----+-------------------+\n",
            "|    1| 12.405569545252556|\n",
            "|    2| 12.752995871908942|\n",
            "|    3| 14.944163140736629|\n",
            "|    4| 15.993646311330744|\n",
            "|    5| 15.335463258785943|\n",
            "|    6|  20.24218390397621|\n",
            "|    7|  20.97875955819881|\n",
            "|    8| 14.450847342039758|\n",
            "|    9|   8.77275694494814|\n",
            "|   10|  9.335733324102598|\n",
            "|   11|  8.757517969781428|\n",
            "|   12| 17.312955393637818|\n",
            "+-----+-------------------+\n",
            "\n"
          ]
        }
      ]
    },
    {
      "cell_type": "code",
      "source": [
        "# 9. Qual a origem mais comum para voos que pousaram em Seattle (SEA)?\n",
        "flights_to_sea = df.filter(df.dest == \"SEA\")\n",
        "origin_counts = flights_to_sea.groupBy(\"origin\").count()\n",
        "\n",
        "ans = origin_counts.orderBy(F.desc(\"count\"))\n",
        "\n",
        "print(f\"Q8 - Origem mais comum para voos que pousaram em Seattle (SEA):\")\n",
        "ans.show(1)"
      ],
      "metadata": {
        "colab": {
          "base_uri": "https://localhost:8080/"
        },
        "id": "gN1bcnJrP747",
        "outputId": "b1fd1288-977e-4949-8c06-6823b4ee0325"
      },
      "execution_count": 20,
      "outputs": [
        {
          "output_type": "stream",
          "name": "stdout",
          "text": [
            "Q8 - Origem mais comum para voos que pousaram em Seattle (SEA):\n",
            "+------+-----+\n",
            "|origin|count|\n",
            "+------+-----+\n",
            "|   JFK| 2092|\n",
            "+------+-----+\n",
            "only showing top 1 row\n",
            "\n"
          ]
        }
      ]
    },
    {
      "cell_type": "code",
      "source": [
        "# 10. Qual é a média de atraso na partida dos voos (dep_delay) para cada dia da semana?\n",
        "df_with_week_day = df.withColumn(\"weekday\", F.dayofweek(\"time_hour\"))\n",
        "\n",
        "mean_dep_delay_per_weekday = df_with_week_day.groupBy(\"weekday\").agg(\n",
        "    F.mean(\"dep_delay\").alias(\"mean_dep_delay\")\n",
        ")\n",
        "ans = mean_dep_delay_per_weekday.orderBy(\"weekday\")\n",
        "\n",
        "print(f\"Q10 - Média de atraso na partida dos voos por dia da semana:\")\n",
        "ans.show()"
      ],
      "metadata": {
        "colab": {
          "base_uri": "https://localhost:8080/"
        },
        "id": "UQARZkSaTbIH",
        "outputId": "52da93ce-2e52-46bb-93bf-7def6474861c"
      },
      "execution_count": 21,
      "outputs": [
        {
          "output_type": "stream",
          "name": "stdout",
          "text": [
            "Q10 - Média de atraso na partida dos voos por dia da semana:\n",
            "+-------+------------------+\n",
            "|weekday|    mean_dep_delay|\n",
            "+-------+------------------+\n",
            "|      1|11.589531801152422|\n",
            "|      2|14.778936729330908|\n",
            "|      3|10.631682565455652|\n",
            "|      4|11.803512219083876|\n",
            "|      5|16.148919990957108|\n",
            "|      6| 14.69605749486653|\n",
            "|      7| 7.650502333676133|\n",
            "+-------+------------------+\n",
            "\n"
          ]
        }
      ]
    },
    {
      "cell_type": "code",
      "source": [
        "# 11. Qual é a rota que teve o maior tempo de voo médio (air_time)?\n",
        "\n",
        "average_air_time_per_route = df.groupBy(\"origin\", \"dest\").agg(\n",
        "    F.mean(\"air_time\").alias(\"average_air_time\")\n",
        ")\n",
        "ans = average_air_time_per_route.orderBy(F.desc(\"average_air_time\"))\n",
        "\n",
        "print(f\"Q11 - Rota com maior air_time medio:\")\n",
        "ans.show(1)"
      ],
      "metadata": {
        "colab": {
          "base_uri": "https://localhost:8080/"
        },
        "id": "gAOSGb3VTxnJ",
        "outputId": "b8ce44c3-2cb9-4b12-cc9b-190938b689c4"
      },
      "execution_count": 22,
      "outputs": [
        {
          "output_type": "stream",
          "name": "stdout",
          "text": [
            "Q11 - Rota com maior air_time medio:\n",
            "+------+----+-----------------+\n",
            "|origin|dest| average_air_time|\n",
            "+------+----+-----------------+\n",
            "|   JFK| HNL|623.0877192982456|\n",
            "+------+----+-----------------+\n",
            "only showing top 1 row\n",
            "\n"
          ]
        }
      ]
    },
    {
      "cell_type": "code",
      "source": [
        "# 12. Para cada aeroporto de origem, qual é o aeroporto de destino mais comum?\n",
        "from pyspark.sql.window import Window\n",
        "\n",
        "origin_dest_counts = df.groupBy(\"origin\", \"dest\").count()\n",
        "window_spec = Window.partitionBy(\"origin\").orderBy(F.desc(\"count\"))\n",
        "\n",
        "ans = origin_dest_counts.withColumn(\n",
        "    \"rank\", F.row_number().over(window_spec)\n",
        ").filter(F.col(\"rank\") == 1).drop(\"rank\")\n",
        "\n",
        "print(f\"Q12 - Destino mais comum por origem:\")\n",
        "ans.show()"
      ],
      "metadata": {
        "colab": {
          "base_uri": "https://localhost:8080/"
        },
        "id": "Jm3Rrd4OUbbr",
        "outputId": "29354436-48c7-4a20-f5db-64f707f49195"
      },
      "execution_count": 23,
      "outputs": [
        {
          "output_type": "stream",
          "name": "stdout",
          "text": [
            "Q12 - Destino mais comum por origem:\n",
            "+------+----+-----+\n",
            "|origin|dest|count|\n",
            "+------+----+-----+\n",
            "|   EWR| ORD| 6100|\n",
            "|   JFK| LAX|11262|\n",
            "|   LGA| ATL|10263|\n",
            "+------+----+-----+\n",
            "\n"
          ]
        }
      ]
    },
    {
      "cell_type": "code",
      "source": [
        "# 13. Quais são as 3 rotas que tiveram a maior variação no tempo médio de voo (air_time) ?\n",
        "route_stats = df.groupBy(\"origin\", \"dest\").agg(\n",
        "    F.mean(\"air_time\").alias(\"average_air_time\")\n",
        ")\n",
        "route_variation = route_stats.groupBy(\"origin\").agg(\n",
        "    F.max(\"average_air_time\").alias(\"max_air_time\"),\n",
        "    F.min(\"average_air_time\").alias(\"min_air_time\")\n",
        ").withColumn(\n",
        "    \"variation\",\n",
        "    F.col(\"max_air_time\") - F.col(\"min_air_time\")\n",
        ")\n",
        "\n",
        "ans = route_variation.orderBy(F.desc(\"variation\"))\n",
        "\n",
        "print(f\"Q13 - 3 rotas que tiveram a maior variação no tempo de voo:\")\n",
        "ans.show(3)"
      ],
      "metadata": {
        "colab": {
          "base_uri": "https://localhost:8080/"
        },
        "id": "CeAToJE4U6QT",
        "outputId": "aa06196f-67d2-499a-9bcf-29b9f2b4b579"
      },
      "execution_count": 24,
      "outputs": [
        {
          "output_type": "stream",
          "name": "stdout",
          "text": [
            "Q13 - 3 rotas que tiveram a maior variação no tempo de voo:\n",
            "+------+------------------+------------------+------------------+\n",
            "|origin|      max_air_time|      min_air_time|         variation|\n",
            "+------+------------------+------------------+------------------+\n",
            "|   JFK| 623.0877192982456| 30.83687150837989| 592.2508477898657|\n",
            "|   EWR|  612.075208913649|25.466019417475728| 586.6091894961733|\n",
            "|   LGA|227.51599671862184| 35.43518518518518|192.08081153343664|\n",
            "+------+------------------+------------------+------------------+\n",
            "\n"
          ]
        }
      ]
    },
    {
      "cell_type": "code",
      "source": [
        "# 14. Qual é a média de atraso na chegada para voos que tiveram atraso na partida superior a 1 hora?\n",
        "flights_with_high_dep_delay = df.filter(df.dep_delay > 60)  # 60 minutos = 1 hora\n",
        "ans = flights_with_high_dep_delay.agg(\n",
        "    F.mean(\"arr_delay\").alias(\"mean_arr_delay\")\n",
        ").collect()[0][0]\n",
        "\n",
        "print(f\"Q14 - Media de atraso de chegada em voos com atraso de partida acima de 1 hora: {ans}\")"
      ],
      "metadata": {
        "colab": {
          "base_uri": "https://localhost:8080/"
        },
        "id": "EbGRqq8aVSgH",
        "outputId": "85198fb8-05c9-4d7a-a2d0-7dd12d76ab56"
      },
      "execution_count": 25,
      "outputs": [
        {
          "output_type": "stream",
          "name": "stdout",
          "text": [
            "Q14 - Media de atraso de chegada em voos com atraso de partida acima de 1 hora: 119.04880549963919\n"
          ]
        }
      ]
    },
    {
      "cell_type": "code",
      "source": [
        "# 15. Qual é a média de voos diários para cada mês do ano?\n",
        "df_with_month_and_day = df.withColumn(\"month\", F.month(\"time_hour\")) \\\n",
        "                          .withColumn(\"day_of_year\", F.dayofyear(\"time_hour\"))\n",
        "\n",
        "daily_flight_counts = df_with_month_and_day.groupBy(\"month\", \"day_of_year\").count()\n",
        "\n",
        "ans = daily_flight_counts.groupBy(\"month\").agg(\n",
        "    F.mean(\"count\").alias(\"average_daily_flights\")\n",
        ")\n",
        "\n",
        "print(f\"Q15 - Media de voos diarios por mes:\")\n",
        "ans.show()"
      ],
      "metadata": {
        "colab": {
          "base_uri": "https://localhost:8080/"
        },
        "id": "goz-Ut83b_BE",
        "outputId": "baa35a67-7d91-4040-ad30-80a18c25f0d7"
      },
      "execution_count": 26,
      "outputs": [
        {
          "output_type": "stream",
          "name": "stdout",
          "text": [
            "Q15 - Media de voos diarios por mes:\n",
            "+-----+---------------------+\n",
            "|month|average_daily_flights|\n",
            "+-----+---------------------+\n",
            "|   12|    907.5806451612904|\n",
            "|    1|    871.0967741935484|\n",
            "|    6|    941.4333333333333|\n",
            "|    3|    930.1290322580645|\n",
            "|    5|    928.9032258064516|\n",
            "|    9|    919.1333333333333|\n",
            "|    4|    944.3333333333334|\n",
            "|    8|    946.0322580645161|\n",
            "|    7|    949.1935483870968|\n",
            "|   10|    931.9032258064516|\n",
            "|   11|    908.9333333333333|\n",
            "|    2|    891.1071428571429|\n",
            "+-----+---------------------+\n",
            "\n"
          ]
        }
      ]
    },
    {
      "cell_type": "code",
      "source": [
        "# 16. Quais são as 3 rotas mais comuns que tiveram atrasos na chegada superiores a 30 minutos?\n",
        "delayed_arrivals = df.filter(df.arr_delay > 30)\n",
        "route_counts = delayed_arrivals.groupBy(\"origin\", \"dest\").count()\n",
        "\n",
        "ans = route_counts.orderBy(F.desc(\"count\"))\n",
        "\n",
        "print(f\"Q16 - 3 rotas mais comuns com atraso de chegada > 30 minutos:\")\n",
        "ans.show(3)"
      ],
      "metadata": {
        "colab": {
          "base_uri": "https://localhost:8080/"
        },
        "id": "VJWNtOz5cD9_",
        "outputId": "9c4c5e7e-df6c-4237-8a31-5c78256db141"
      },
      "execution_count": 27,
      "outputs": [
        {
          "output_type": "stream",
          "name": "stdout",
          "text": [
            "Q16 - 3 rotas mais comuns com atraso de chegada > 30 minutos:\n",
            "+------+----+-----+\n",
            "|origin|dest|count|\n",
            "+------+----+-----+\n",
            "|   LGA| ATL| 1563|\n",
            "|   JFK| LAX| 1286|\n",
            "|   LGA| ORD| 1188|\n",
            "+------+----+-----+\n",
            "only showing top 3 rows\n",
            "\n"
          ]
        }
      ]
    },
    {
      "cell_type": "code",
      "source": [
        "# 17. Para cada origem, qual o principal destino?\n",
        "route_counts = df.groupBy(\"origin\", \"dest\").count()\n",
        "\n",
        "window_spec = Window.partitionBy(\"origin\").orderBy(F.desc(\"count\"))\n",
        "\n",
        "ranked_routes = route_counts.withColumn(\"rank\", F.row_number().over(window_spec))\n",
        "\n",
        "main_destinations = ranked_routes.filter(F.col(\"rank\") == 1).drop(\"rank\")\n",
        "\n",
        "print(f\"Q17 - Para cada origem, qual o principal destino?:\")\n",
        "main_destinations.show()"
      ],
      "metadata": {
        "colab": {
          "base_uri": "https://localhost:8080/"
        },
        "id": "O-y8LHWQeXco",
        "outputId": "cee0fe82-74ae-4a34-f623-6e7ca73b6428"
      },
      "execution_count": 28,
      "outputs": [
        {
          "output_type": "stream",
          "name": "stdout",
          "text": [
            "Q17 - Para cada origem, qual o principal destino?:\n",
            "+------+----+-----+\n",
            "|origin|dest|count|\n",
            "+------+----+-----+\n",
            "|   EWR| ORD| 6100|\n",
            "|   JFK| LAX|11262|\n",
            "|   LGA| ATL|10263|\n",
            "+------+----+-----+\n",
            "\n"
          ]
        }
      ]
    },
    {
      "cell_type": "markdown",
      "source": [
        "# Enrich"
      ],
      "metadata": {
        "id": "BqkA2kOClRsM"
      }
    },
    {
      "cell_type": "code",
      "source": [
        "import requests\n",
        "import datetime\n",
        "\n",
        "airportdb_key = \"API_KEY_HERE\" # \"a5fcdbee03ccf965a0ea9047924c7e81dd1f266899309b561f16a63b22b2fc018a0bad0b5bf36ef638ea54afeb1c18ce\"\n",
        "weatherbit = \"API_KEY_HERE\"  # \"08bf41a2898c4fd9a17ff1785f119774\""
      ],
      "metadata": {
        "id": "4aG6fzAKlS2L"
      },
      "execution_count": 121,
      "outputs": []
    },
    {
      "cell_type": "code",
      "source": [
        "top_delayed_flights = df.orderBy(F.desc(\"arr_delay\")).limit(5)\n",
        "\n",
        "all_origins = list(top_delayed_flights.select('origin').distinct().toPandas()['origin'])\n",
        "all_destinations = list(top_delayed_flights.select('dest').distinct().toPandas()['dest'])\n",
        "all_origins, all_destinations"
      ],
      "metadata": {
        "id": "jUds_cggp6Kc"
      },
      "execution_count": 104,
      "outputs": []
    },
    {
      "cell_type": "code",
      "source": [
        "fields = [\"origin\", \"dest\", \"time_hour\"]\n",
        "flight_data = top_delayed_flights.select(*fields).collect()\n",
        "\n",
        "for origin, dest, time_hour in flight_data:\n",
        "    url = f\"https://airportdb.io/api/v1/airport/K{origin}?apiToken={airportdb_key}\"\n",
        "    response = requests.get(url)\n",
        "    data = response.json()\n",
        "\n",
        "    url = f\"https://api.weatherbit.io/v2.0/history/daily\"\n",
        "    lat, lon = data[\"latitude_deg\"], data[\"longitude_deg\"]\n",
        "    start_date, end_date = time_hour.date(), time_hour.date() + datetime.timedelta(days=1)\n",
        "\n",
        "    params = {\"lat\": lat, \"lon\": lon, \"start_date\": start_date, \"end_date\": end_date, \"key\": weatherbit}\n",
        "    headers = {\"Accept\": \"application/json\"}\n",
        "    response = requests.get(url, params=params, headers=headers)\n",
        "    data = response.json()\n",
        "    wind_spd = data[\"data\"][0][\"wind_spd\"]\n",
        "\n",
        "    print(\n",
        "        {\"origin\" : origin,\n",
        "        \"dest\" : dest,\n",
        "        \"lat\" : lat,\n",
        "        \"lon\": lon,\n",
        "        \"start_date\": str(start_date),\n",
        "        \"end_date\": str(end_date),\n",
        "        \"wind_spd\": wind_spd}\n",
        "    )\n"
      ],
      "metadata": {
        "colab": {
          "base_uri": "https://localhost:8080/"
        },
        "id": "SCuOMGRBrm3x",
        "outputId": "414cd366-6623-4599-b5d8-19f804d945fd"
      },
      "execution_count": 138,
      "outputs": [
        {
          "output_type": "stream",
          "name": "stdout",
          "text": [
            "{'origin': 'JFK', 'dest': 'HNL', 'lat': 40.639801, 'lon': -73.7789, 'start_date': '2013-01-09', 'end_date': '2013-01-10', 'wind_spd': 3.5}\n",
            "{'origin': 'JFK', 'dest': 'CMH', 'lat': 40.639801, 'lon': -73.7789, 'start_date': '2013-06-15', 'end_date': '2013-06-16', 'wind_spd': 4.1}\n",
            "{'origin': 'EWR', 'dest': 'ORD', 'lat': 40.692501, 'lon': -74.168701, 'start_date': '2013-01-10', 'end_date': '2013-01-11', 'wind_spd': 4.1}\n",
            "{'origin': 'JFK', 'dest': 'SFO', 'lat': 40.639801, 'lon': -73.7789, 'start_date': '2013-09-20', 'end_date': '2013-09-21', 'wind_spd': 3.7}\n",
            "{'origin': 'JFK', 'dest': 'CVG', 'lat': 40.639801, 'lon': -73.7789, 'start_date': '2013-07-22', 'end_date': '2013-07-23', 'wind_spd': 3.2}\n"
          ]
        }
      ]
    },
    {
      "cell_type": "markdown",
      "source": [
        "# Model Manipulation"
      ],
      "metadata": {
        "id": "7YZJGtMm1N3Y"
      }
    },
    {
      "cell_type": "code",
      "source": [
        "df.printSchema()"
      ],
      "metadata": {
        "colab": {
          "base_uri": "https://localhost:8080/"
        },
        "id": "EjMYngNK1RwN",
        "outputId": "e190d5af-c516-4433-9b88-4f4898f31233"
      },
      "execution_count": 11,
      "outputs": [
        {
          "output_type": "stream",
          "name": "stdout",
          "text": [
            "root\n",
            " |-- id: integer (nullable = true)\n",
            " |-- year: integer (nullable = true)\n",
            " |-- month: integer (nullable = true)\n",
            " |-- day: integer (nullable = true)\n",
            " |-- dep_time: double (nullable = true)\n",
            " |-- sched_dep_time: integer (nullable = true)\n",
            " |-- dep_delay: double (nullable = true)\n",
            " |-- arr_time: double (nullable = true)\n",
            " |-- sched_arr_time: integer (nullable = true)\n",
            " |-- arr_delay: double (nullable = true)\n",
            " |-- carrier: string (nullable = true)\n",
            " |-- flight: integer (nullable = true)\n",
            " |-- tailnum: string (nullable = true)\n",
            " |-- origin: string (nullable = true)\n",
            " |-- dest: string (nullable = true)\n",
            " |-- air_time: double (nullable = true)\n",
            " |-- distance: integer (nullable = true)\n",
            " |-- hour: integer (nullable = true)\n",
            " |-- minute: integer (nullable = true)\n",
            " |-- time_hour: timestamp (nullable = true)\n",
            " |-- name: string (nullable = true)\n",
            "\n"
          ]
        }
      ]
    },
    {
      "cell_type": "code",
      "source": [
        "df = df.drop('time_hour')\n",
        "\n",
        "pdf = df.toPandas()\n",
        "pdf = pdf.sample(frac=0.1)"
      ],
      "metadata": {
        "id": "dGcg0Vk23BQ8"
      },
      "execution_count": 12,
      "outputs": []
    },
    {
      "cell_type": "code",
      "source": [
        "# Tratar valores nulos (exemplo: preencher com a média para colunas numéricas e com a moda para colunas categóricas)\n",
        "pdf.fillna({\n",
        "    'dep_time': 0,\n",
        "    'sched_dep_time': pdf['sched_dep_time'].mode()[0],\n",
        "    'dep_delay': pdf['dep_delay'].mean(),\n",
        "    'arr_time': pdf['arr_time'].mean(),\n",
        "    'sched_arr_time': pdf['sched_arr_time'].mode()[0],\n",
        "    'arr_delay': pdf['arr_delay'].mean(),\n",
        "    'carrier': pdf['carrier'].mode()[0],\n",
        "    'flight': pdf['flight'].mode()[0],\n",
        "    'tailnum': pdf['tailnum'].mode()[0],\n",
        "    'origin': pdf['origin'].mode()[0],\n",
        "    'dest': pdf['dest'].mode()[0],\n",
        "    'air_time': pdf['air_time'].mean(),\n",
        "    'distance': pdf['distance'].mean(),\n",
        "    'hour': pdf['hour'].mode()[0],\n",
        "    'minute': pdf['minute'].mode()[0],\n",
        "    'name': pdf['name'].mode()[0]\n",
        "}, inplace=True)"
      ],
      "metadata": {
        "id": "36TOlf4c3Bwb"
      },
      "execution_count": 13,
      "outputs": []
    },
    {
      "cell_type": "code",
      "source": [
        "from sklearn.model_selection import train_test_split\n",
        "import pandas as pd\n",
        "\n",
        "# Definir features (X) e target (Y)\n",
        "X = pdf[['year', 'month', 'day', 'dep_time', 'sched_dep_time', 'dep_delay', 'arr_time', 'sched_arr_time', 'carrier', 'flight', 'tailnum', 'origin', 'dest', 'air_time', 'distance', 'hour', 'minute']]\n",
        "Y = pdf['arr_delay']\n",
        "\n",
        "# Converter variáveis categóricas para numéricas usando one-hot encoding\n",
        "X = pd.get_dummies(X, columns=['carrier', 'origin', 'dest', 'tailnum'])\n",
        "\n",
        "# Dividir os dados em conjuntos de treinamento e teste\n",
        "X_train, X_test, Y_train, Y_test = train_test_split(X, Y, test_size=0.2, random_state=42)\n"
      ],
      "metadata": {
        "id": "_Zx8klgF5OIf"
      },
      "execution_count": 14,
      "outputs": []
    },
    {
      "cell_type": "code",
      "source": [
        "from sklearn.ensemble import RandomForestRegressor\n",
        "\n",
        "# Inicializar e treinar o modelo\n",
        "model = RandomForestRegressor(n_estimators=10, random_state=42)\n",
        "model.fit(X_train, Y_train)"
      ],
      "metadata": {
        "colab": {
          "base_uri": "https://localhost:8080/",
          "height": 75
        },
        "id": "LJ5oa1ak5OrZ",
        "outputId": "66ef7e62-d0a7-4848-badd-cab91e4cfd0a"
      },
      "execution_count": 16,
      "outputs": [
        {
          "output_type": "execute_result",
          "data": {
            "text/plain": [
              "RandomForestRegressor(n_estimators=10, random_state=42)"
            ],
            "text/html": [
              "<style>#sk-container-id-1 {color: black;}#sk-container-id-1 pre{padding: 0;}#sk-container-id-1 div.sk-toggleable {background-color: white;}#sk-container-id-1 label.sk-toggleable__label {cursor: pointer;display: block;width: 100%;margin-bottom: 0;padding: 0.3em;box-sizing: border-box;text-align: center;}#sk-container-id-1 label.sk-toggleable__label-arrow:before {content: \"▸\";float: left;margin-right: 0.25em;color: #696969;}#sk-container-id-1 label.sk-toggleable__label-arrow:hover:before {color: black;}#sk-container-id-1 div.sk-estimator:hover label.sk-toggleable__label-arrow:before {color: black;}#sk-container-id-1 div.sk-toggleable__content {max-height: 0;max-width: 0;overflow: hidden;text-align: left;background-color: #f0f8ff;}#sk-container-id-1 div.sk-toggleable__content pre {margin: 0.2em;color: black;border-radius: 0.25em;background-color: #f0f8ff;}#sk-container-id-1 input.sk-toggleable__control:checked~div.sk-toggleable__content {max-height: 200px;max-width: 100%;overflow: auto;}#sk-container-id-1 input.sk-toggleable__control:checked~label.sk-toggleable__label-arrow:before {content: \"▾\";}#sk-container-id-1 div.sk-estimator input.sk-toggleable__control:checked~label.sk-toggleable__label {background-color: #d4ebff;}#sk-container-id-1 div.sk-label input.sk-toggleable__control:checked~label.sk-toggleable__label {background-color: #d4ebff;}#sk-container-id-1 input.sk-hidden--visually {border: 0;clip: rect(1px 1px 1px 1px);clip: rect(1px, 1px, 1px, 1px);height: 1px;margin: -1px;overflow: hidden;padding: 0;position: absolute;width: 1px;}#sk-container-id-1 div.sk-estimator {font-family: monospace;background-color: #f0f8ff;border: 1px dotted black;border-radius: 0.25em;box-sizing: border-box;margin-bottom: 0.5em;}#sk-container-id-1 div.sk-estimator:hover {background-color: #d4ebff;}#sk-container-id-1 div.sk-parallel-item::after {content: \"\";width: 100%;border-bottom: 1px solid gray;flex-grow: 1;}#sk-container-id-1 div.sk-label:hover label.sk-toggleable__label {background-color: #d4ebff;}#sk-container-id-1 div.sk-serial::before {content: \"\";position: absolute;border-left: 1px solid gray;box-sizing: border-box;top: 0;bottom: 0;left: 50%;z-index: 0;}#sk-container-id-1 div.sk-serial {display: flex;flex-direction: column;align-items: center;background-color: white;padding-right: 0.2em;padding-left: 0.2em;position: relative;}#sk-container-id-1 div.sk-item {position: relative;z-index: 1;}#sk-container-id-1 div.sk-parallel {display: flex;align-items: stretch;justify-content: center;background-color: white;position: relative;}#sk-container-id-1 div.sk-item::before, #sk-container-id-1 div.sk-parallel-item::before {content: \"\";position: absolute;border-left: 1px solid gray;box-sizing: border-box;top: 0;bottom: 0;left: 50%;z-index: -1;}#sk-container-id-1 div.sk-parallel-item {display: flex;flex-direction: column;z-index: 1;position: relative;background-color: white;}#sk-container-id-1 div.sk-parallel-item:first-child::after {align-self: flex-end;width: 50%;}#sk-container-id-1 div.sk-parallel-item:last-child::after {align-self: flex-start;width: 50%;}#sk-container-id-1 div.sk-parallel-item:only-child::after {width: 0;}#sk-container-id-1 div.sk-dashed-wrapped {border: 1px dashed gray;margin: 0 0.4em 0.5em 0.4em;box-sizing: border-box;padding-bottom: 0.4em;background-color: white;}#sk-container-id-1 div.sk-label label {font-family: monospace;font-weight: bold;display: inline-block;line-height: 1.2em;}#sk-container-id-1 div.sk-label-container {text-align: center;}#sk-container-id-1 div.sk-container {/* jupyter's `normalize.less` sets `[hidden] { display: none; }` but bootstrap.min.css set `[hidden] { display: none !important; }` so we also need the `!important` here to be able to override the default hidden behavior on the sphinx rendered scikit-learn.org. See: https://github.com/scikit-learn/scikit-learn/issues/21755 */display: inline-block !important;position: relative;}#sk-container-id-1 div.sk-text-repr-fallback {display: none;}</style><div id=\"sk-container-id-1\" class=\"sk-top-container\"><div class=\"sk-text-repr-fallback\"><pre>RandomForestRegressor(n_estimators=10, random_state=42)</pre><b>In a Jupyter environment, please rerun this cell to show the HTML representation or trust the notebook. <br />On GitHub, the HTML representation is unable to render, please try loading this page with nbviewer.org.</b></div><div class=\"sk-container\" hidden><div class=\"sk-item\"><div class=\"sk-estimator sk-toggleable\"><input class=\"sk-toggleable__control sk-hidden--visually\" id=\"sk-estimator-id-1\" type=\"checkbox\" checked><label for=\"sk-estimator-id-1\" class=\"sk-toggleable__label sk-toggleable__label-arrow\">RandomForestRegressor</label><div class=\"sk-toggleable__content\"><pre>RandomForestRegressor(n_estimators=10, random_state=42)</pre></div></div></div></div></div>"
            ]
          },
          "metadata": {},
          "execution_count": 16
        }
      ]
    },
    {
      "cell_type": "code",
      "source": [
        "from sklearn.metrics import mean_squared_error, r2_score\n",
        "\n",
        "# Fazer previsões\n",
        "Y_pred = model.predict(X_test)\n",
        "\n",
        "# Calcular métricas\n",
        "mse = mean_squared_error(Y_test, Y_pred)\n",
        "r2 = r2_score(Y_test, Y_pred)\n",
        "\n",
        "print(f\"Mean Squared Error: {mse}\")\n",
        "print(f\"R2 Score: {r2}\")"
      ],
      "metadata": {
        "colab": {
          "base_uri": "https://localhost:8080/"
        },
        "id": "GrJtmKZG5dtd",
        "outputId": "dc1c5a1d-6e91-438d-b984-12a71eceb773"
      },
      "execution_count": 17,
      "outputs": [
        {
          "output_type": "stream",
          "name": "stdout",
          "text": [
            "Mean Squared Error: 251.9870202637964\n",
            "R2 Score: 0.8737426533168348\n"
          ]
        }
      ]
    },
    {
      "cell_type": "code",
      "source": [
        "import joblib\n",
        "\n",
        "# Salvar o modelo\n",
        "joblib.dump(model, 'random_forest_model.pkl')"
      ],
      "metadata": {
        "colab": {
          "base_uri": "https://localhost:8080/"
        },
        "id": "VS-g-RtG5fBB",
        "outputId": "1c88876c-2a4c-49f5-a69f-87998d6bb70c"
      },
      "execution_count": 18,
      "outputs": [
        {
          "output_type": "execute_result",
          "data": {
            "text/plain": [
              "['random_forest_model.pkl']"
            ]
          },
          "metadata": {},
          "execution_count": 18
        }
      ]
    },
    {
      "cell_type": "code",
      "source": [
        "loaded_model = joblib.load('random_forest_model.pkl')\n",
        "\n",
        "prediction = loaded_model.predict(X_test)\n",
        "print(f\"Atraso de chegada previsto: {prediction[0]} minutos\")"
      ],
      "metadata": {
        "colab": {
          "base_uri": "https://localhost:8080/"
        },
        "id": "l1lndE4O5gJK",
        "outputId": "70186a7d-2b3a-4065-fae0-a4f13e865c40"
      },
      "execution_count": 27,
      "outputs": [
        {
          "output_type": "stream",
          "name": "stdout",
          "text": [
            "Atraso de chegada previsto: 28.1 minutos\n"
          ]
        }
      ]
    },
    {
      "cell_type": "code",
      "source": [
        "X_test"
      ],
      "metadata": {
        "colab": {
          "base_uri": "https://localhost:8080/",
          "height": 141
        },
        "id": "tRG5QVPO3seT",
        "outputId": "4dbe1f95-f3ab-4d90-9e46-1054d92fb28c"
      },
      "execution_count": 1,
      "outputs": [
        {
          "output_type": "error",
          "ename": "NameError",
          "evalue": "name 'X_test' is not defined",
          "traceback": [
            "\u001b[0;31m---------------------------------------------------------------------------\u001b[0m",
            "\u001b[0;31mNameError\u001b[0m                                 Traceback (most recent call last)",
            "\u001b[0;32m<ipython-input-1-0c1cdefd54ea>\u001b[0m in \u001b[0;36m<cell line: 1>\u001b[0;34m()\u001b[0m\n\u001b[0;32m----> 1\u001b[0;31m \u001b[0mX_test\u001b[0m\u001b[0;34m\u001b[0m\u001b[0;34m\u001b[0m\u001b[0m\n\u001b[0m",
            "\u001b[0;31mNameError\u001b[0m: name 'X_test' is not defined"
          ]
        }
      ]
    }
  ]
}